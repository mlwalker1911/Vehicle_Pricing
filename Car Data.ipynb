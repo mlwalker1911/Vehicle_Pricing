{
 "cells": [
  {
   "cell_type": "code",
   "execution_count": 1,
   "metadata": {},
   "outputs": [],
   "source": [
    "%matplotlib inline\n",
    "import tensorflow as tf\n",
    "import numpy as np\n",
    "import pandas as pd\n",
    "import math\n",
    "from matplotlib import pyplot as plt\n",
    "import seaborn as sns"
   ]
  },
  {
   "cell_type": "code",
   "execution_count": 21,
   "metadata": {},
   "outputs": [
    {
     "data": {
      "text/html": [
       "<div>\n",
       "<style scoped>\n",
       "    .dataframe tbody tr th:only-of-type {\n",
       "        vertical-align: middle;\n",
       "    }\n",
       "\n",
       "    .dataframe tbody tr th {\n",
       "        vertical-align: top;\n",
       "    }\n",
       "\n",
       "    .dataframe thead th {\n",
       "        text-align: right;\n",
       "    }\n",
       "</style>\n",
       "<table border=\"1\" class=\"dataframe\">\n",
       "  <thead>\n",
       "    <tr style=\"text-align: right;\">\n",
       "      <th></th>\n",
       "      <th>price</th>\n",
       "      <th>year</th>\n",
       "      <th>manufacturer</th>\n",
       "      <th>model</th>\n",
       "      <th>condition</th>\n",
       "      <th>cylinders</th>\n",
       "      <th>fuel</th>\n",
       "      <th>odometer</th>\n",
       "      <th>title_status</th>\n",
       "      <th>vin</th>\n",
       "      <th>state</th>\n",
       "      <th>transmission</th>\n",
       "      <th>drive</th>\n",
       "      <th>size</th>\n",
       "      <th>paint_color</th>\n",
       "      <th>lat</th>\n",
       "      <th>long</th>\n",
       "    </tr>\n",
       "  </thead>\n",
       "  <tbody>\n",
       "    <tr>\n",
       "      <th>0</th>\n",
       "      <td>17899</td>\n",
       "      <td>2012</td>\n",
       "      <td>volkswagen</td>\n",
       "      <td>golf r</td>\n",
       "      <td>excellent</td>\n",
       "      <td>4 cylinders</td>\n",
       "      <td>gas</td>\n",
       "      <td>63500</td>\n",
       "      <td>clean</td>\n",
       "      <td>WVWPF7AJ6CW316713</td>\n",
       "      <td>ut</td>\n",
       "      <td>manual</td>\n",
       "      <td>4wd</td>\n",
       "      <td>compact</td>\n",
       "      <td>black</td>\n",
       "      <td>40.7372</td>\n",
       "      <td>-111.858</td>\n",
       "    </tr>\n",
       "    <tr>\n",
       "      <th>1</th>\n",
       "      <td>0</td>\n",
       "      <td>2016</td>\n",
       "      <td>ford</td>\n",
       "      <td>f-150</td>\n",
       "      <td>excellent</td>\n",
       "      <td>NaN</td>\n",
       "      <td>gas</td>\n",
       "      <td>10</td>\n",
       "      <td>clean</td>\n",
       "      <td>1FTMF1EP3GKF13544</td>\n",
       "      <td>ut</td>\n",
       "      <td>automatic</td>\n",
       "      <td>4wd</td>\n",
       "      <td>NaN</td>\n",
       "      <td>NaN</td>\n",
       "      <td>40.5881</td>\n",
       "      <td>-111.884</td>\n",
       "    </tr>\n",
       "    <tr>\n",
       "      <th>2</th>\n",
       "      <td>46463</td>\n",
       "      <td>2015</td>\n",
       "      <td>gmc</td>\n",
       "      <td>sierra 1500</td>\n",
       "      <td>excellent</td>\n",
       "      <td>NaN</td>\n",
       "      <td>gas</td>\n",
       "      <td>7554</td>\n",
       "      <td>clean</td>\n",
       "      <td>3GTU2WEC6FG228025</td>\n",
       "      <td>ut</td>\n",
       "      <td>automatic</td>\n",
       "      <td>4wd</td>\n",
       "      <td>NaN</td>\n",
       "      <td>white</td>\n",
       "      <td>40.5881</td>\n",
       "      <td>-111.884</td>\n",
       "    </tr>\n",
       "    <tr>\n",
       "      <th>3</th>\n",
       "      <td>0</td>\n",
       "      <td>2016</td>\n",
       "      <td>ford</td>\n",
       "      <td>f-150</td>\n",
       "      <td>excellent</td>\n",
       "      <td>NaN</td>\n",
       "      <td>gas</td>\n",
       "      <td>10</td>\n",
       "      <td>clean</td>\n",
       "      <td>1FTEX1EF6GKD25447</td>\n",
       "      <td>ut</td>\n",
       "      <td>automatic</td>\n",
       "      <td>4wd</td>\n",
       "      <td>NaN</td>\n",
       "      <td>NaN</td>\n",
       "      <td>40.5881</td>\n",
       "      <td>-111.884</td>\n",
       "    </tr>\n",
       "    <tr>\n",
       "      <th>4</th>\n",
       "      <td>49999</td>\n",
       "      <td>2018</td>\n",
       "      <td>ford</td>\n",
       "      <td>f-450</td>\n",
       "      <td>NaN</td>\n",
       "      <td>NaN</td>\n",
       "      <td>diesel</td>\n",
       "      <td>70150</td>\n",
       "      <td>clean</td>\n",
       "      <td>1FT8W4DT8GEA90427</td>\n",
       "      <td>ut</td>\n",
       "      <td>automatic</td>\n",
       "      <td>4wd</td>\n",
       "      <td>NaN</td>\n",
       "      <td>white</td>\n",
       "      <td>40.3744</td>\n",
       "      <td>-104.694</td>\n",
       "    </tr>\n",
       "  </tbody>\n",
       "</table>\n",
       "</div>"
      ],
      "text/plain": [
       "   price  year manufacturer        model  condition    cylinders    fuel  \\\n",
       "0  17899  2012   volkswagen       golf r  excellent  4 cylinders     gas   \n",
       "1      0  2016         ford        f-150  excellent          NaN     gas   \n",
       "2  46463  2015          gmc  sierra 1500  excellent          NaN     gas   \n",
       "3      0  2016         ford        f-150  excellent          NaN     gas   \n",
       "4  49999  2018         ford        f-450        NaN          NaN  diesel   \n",
       "\n",
       "  odometer title_status                vin state transmission drive     size  \\\n",
       "0    63500        clean  WVWPF7AJ6CW316713    ut       manual   4wd  compact   \n",
       "1       10        clean  1FTMF1EP3GKF13544    ut    automatic   4wd      NaN   \n",
       "2     7554        clean  3GTU2WEC6FG228025    ut    automatic   4wd      NaN   \n",
       "3       10        clean  1FTEX1EF6GKD25447    ut    automatic   4wd      NaN   \n",
       "4    70150        clean  1FT8W4DT8GEA90427    ut    automatic   4wd      NaN   \n",
       "\n",
       "  paint_color      lat     long  \n",
       "0       black  40.7372 -111.858  \n",
       "1         NaN  40.5881 -111.884  \n",
       "2       white  40.5881 -111.884  \n",
       "3         NaN  40.5881 -111.884  \n",
       "4       white  40.3744 -104.694  "
      ]
     },
     "execution_count": 21,
     "metadata": {},
     "output_type": "execute_result"
    }
   ],
   "source": [
    "feature_names = [\"price\", \"year\", \"manufacturer\", \"model\", \"condition\", \"cylinders\", \"fuel\", \"odometer\", \"title_status\", \"vin\", \"state\", \"transmission\", \"drive\", \"size\", \"paint_color\", \"lat\", \"long\"]\n",
    "\n",
    "car_df = pd.read_csv(\"Final Project/vehicles_clean_Marcell.csv\",)\n",
    "\n",
    "car_df.head()\n"
   ]
  },
  {
   "cell_type": "code",
   "execution_count": 22,
   "metadata": {},
   "outputs": [
    {
     "data": {
      "text/plain": [
       "(350312, 17)"
      ]
     },
     "execution_count": 22,
     "metadata": {},
     "output_type": "execute_result"
    }
   ],
   "source": [
    "car_df.shape"
   ]
  },
  {
   "cell_type": "code",
   "execution_count": 23,
   "metadata": {},
   "outputs": [
    {
     "data": {
      "text/html": [
       "<div>\n",
       "<style scoped>\n",
       "    .dataframe tbody tr th:only-of-type {\n",
       "        vertical-align: middle;\n",
       "    }\n",
       "\n",
       "    .dataframe tbody tr th {\n",
       "        vertical-align: top;\n",
       "    }\n",
       "\n",
       "    .dataframe thead th {\n",
       "        text-align: right;\n",
       "    }\n",
       "</style>\n",
       "<table border=\"1\" class=\"dataframe\">\n",
       "  <thead>\n",
       "    <tr style=\"text-align: right;\">\n",
       "      <th></th>\n",
       "      <th>price</th>\n",
       "      <th>year</th>\n",
       "      <th>manufacturer</th>\n",
       "      <th>model</th>\n",
       "      <th>condition</th>\n",
       "      <th>cylinders</th>\n",
       "      <th>fuel</th>\n",
       "      <th>odometer</th>\n",
       "      <th>title_status</th>\n",
       "      <th>vin</th>\n",
       "      <th>state</th>\n",
       "      <th>transmission</th>\n",
       "      <th>drive</th>\n",
       "      <th>size</th>\n",
       "      <th>paint_color</th>\n",
       "      <th>lat</th>\n",
       "      <th>long</th>\n",
       "    </tr>\n",
       "  </thead>\n",
       "  <tbody>\n",
       "    <tr>\n",
       "      <th>count</th>\n",
       "      <td>350312</td>\n",
       "      <td>349264.0</td>\n",
       "      <td>335214</td>\n",
       "      <td>344868</td>\n",
       "      <td>189071</td>\n",
       "      <td>211443</td>\n",
       "      <td>347816</td>\n",
       "      <td>288534.0</td>\n",
       "      <td>348262</td>\n",
       "      <td>213338</td>\n",
       "      <td>350275</td>\n",
       "      <td>347793</td>\n",
       "      <td>251315</td>\n",
       "      <td>113434</td>\n",
       "      <td>239030</td>\n",
       "      <td>343430.0000</td>\n",
       "      <td>343430.0000</td>\n",
       "    </tr>\n",
       "    <tr>\n",
       "      <th>unique</th>\n",
       "      <td>17053</td>\n",
       "      <td>300.0</td>\n",
       "      <td>44</td>\n",
       "      <td>27830</td>\n",
       "      <td>7</td>\n",
       "      <td>9</td>\n",
       "      <td>6</td>\n",
       "      <td>105546.0</td>\n",
       "      <td>7</td>\n",
       "      <td>129132</td>\n",
       "      <td>39</td>\n",
       "      <td>4</td>\n",
       "      <td>4</td>\n",
       "      <td>5</td>\n",
       "      <td>13</td>\n",
       "      <td>38813.0000</td>\n",
       "      <td>37306.0000</td>\n",
       "    </tr>\n",
       "    <tr>\n",
       "      <th>top</th>\n",
       "      <td>0</td>\n",
       "      <td>2016.0</td>\n",
       "      <td>ford</td>\n",
       "      <td>f-150</td>\n",
       "      <td>excellent</td>\n",
       "      <td>6 cylinders</td>\n",
       "      <td>gas</td>\n",
       "      <td>0.0</td>\n",
       "      <td>clean</td>\n",
       "      <td>0</td>\n",
       "      <td>ca</td>\n",
       "      <td>automatic</td>\n",
       "      <td>4wd</td>\n",
       "      <td>full-size</td>\n",
       "      <td>white</td>\n",
       "      <td>43.1824</td>\n",
       "      <td>-84.1122</td>\n",
       "    </tr>\n",
       "    <tr>\n",
       "      <th>freq</th>\n",
       "      <td>27162</td>\n",
       "      <td>26222.0</td>\n",
       "      <td>63339</td>\n",
       "      <td>7737</td>\n",
       "      <td>96046</td>\n",
       "      <td>76168</td>\n",
       "      <td>304195</td>\n",
       "      <td>1346.0</td>\n",
       "      <td>335277</td>\n",
       "      <td>114</td>\n",
       "      <td>52743</td>\n",
       "      <td>314720</td>\n",
       "      <td>115697</td>\n",
       "      <td>61146</td>\n",
       "      <td>62386</td>\n",
       "      <td>2339.0000</td>\n",
       "      <td>2339.0000</td>\n",
       "    </tr>\n",
       "  </tbody>\n",
       "</table>\n",
       "</div>"
      ],
      "text/plain": [
       "         price      year manufacturer   model  condition    cylinders    fuel  \\\n",
       "count   350312  349264.0       335214  344868     189071       211443  347816   \n",
       "unique   17053     300.0           44   27830          7            9       6   \n",
       "top          0    2016.0         ford   f-150  excellent  6 cylinders     gas   \n",
       "freq     27162   26222.0        63339    7737      96046        76168  304195   \n",
       "\n",
       "        odometer title_status     vin   state transmission   drive       size  \\\n",
       "count   288534.0       348262  213338  350275       347793  251315     113434   \n",
       "unique  105546.0            7  129132      39            4       4          5   \n",
       "top          0.0        clean       0      ca    automatic     4wd  full-size   \n",
       "freq      1346.0       335277     114   52743       314720  115697      61146   \n",
       "\n",
       "       paint_color          lat         long  \n",
       "count       239030  343430.0000  343430.0000  \n",
       "unique          13   38813.0000   37306.0000  \n",
       "top          white      43.1824     -84.1122  \n",
       "freq         62386    2339.0000    2339.0000  "
      ]
     },
     "execution_count": 23,
     "metadata": {},
     "output_type": "execute_result"
    }
   ],
   "source": [
    "car_df.describe()"
   ]
  },
  {
   "cell_type": "code",
   "execution_count": 58,
   "metadata": {},
   "outputs": [
    {
     "name": "stdout",
     "output_type": "stream",
     "text": [
      "<class 'pandas.core.frame.DataFrame'>\n",
      "Int64Index: 350312 entries, 0 to 350311\n",
      "Data columns (total 17 columns):\n",
      "price           350312 non-null float64\n",
      "year            350312 non-null float64\n",
      "manufacturer    350312 non-null object\n",
      "model           350312 non-null object\n",
      "condition       350312 non-null object\n",
      "cylinders       350312 non-null float64\n",
      "fuel            350312 non-null object\n",
      "odometer        350312 non-null float64\n",
      "title_status    350312 non-null object\n",
      "vin             350312 non-null object\n",
      "state           350312 non-null object\n",
      "transmission    350312 non-null object\n",
      "drive           350312 non-null float64\n",
      "size            350312 non-null object\n",
      "paint_color     350312 non-null object\n",
      "lat             350312 non-null float64\n",
      "long            350312 non-null float64\n",
      "dtypes: float64(7), object(10)\n",
      "memory usage: 48.1+ MB\n"
     ]
    }
   ],
   "source": [
    "car_df.info()"
   ]
  },
  {
   "cell_type": "code",
   "execution_count": 57,
   "metadata": {},
   "outputs": [
    {
     "data": {
      "text/plain": [
       "0        -111\n",
       "1        -111\n",
       "2        -111\n",
       "3        -111\n",
       "4        -104\n",
       "5        -104\n",
       "6        -104\n",
       "7        -104\n",
       "8        -104\n",
       "9        -104\n",
       "10       -104\n",
       "11       -104\n",
       "12       -104\n",
       "13       -104\n",
       "14       -104\n",
       "15       -104\n",
       "16       -104\n",
       "17       -104\n",
       "18       -104\n",
       "19       -104\n",
       "20       -104\n",
       "21       -155\n",
       "22       -111\n",
       "23       -111\n",
       "24       -111\n",
       "25       -111\n",
       "26       -111\n",
       "27       -111\n",
       "28       -111\n",
       "29       -112\n",
       "         ... \n",
       "350282    -74\n",
       "350283    -74\n",
       "350284    -74\n",
       "350285    -74\n",
       "350286    -75\n",
       "350287    -74\n",
       "350288    -74\n",
       "350289    -74\n",
       "350290    -75\n",
       "350291    -74\n",
       "350292    -75\n",
       "350293    -74\n",
       "350294    -75\n",
       "350295    -74\n",
       "350296    -74\n",
       "350297    -74\n",
       "350298    -74\n",
       "350299    -74\n",
       "350300    -74\n",
       "350301    -74\n",
       "350302    -74\n",
       "350303    -74\n",
       "350304    -74\n",
       "350305    -75\n",
       "350306    -74\n",
       "350307    -74\n",
       "350308    -74\n",
       "350309    -74\n",
       "350310    -74\n",
       "350311    -74\n",
       "Name: long, Length: 350312, dtype: int32"
      ]
     },
     "execution_count": 57,
     "metadata": {},
     "output_type": "execute_result"
    }
   ],
   "source": [
    "car_df.year.astype('int')\n",
    "car_df.price.astype('float')\n",
    "car_df.odometer.astype('float')\n",
    "car_df.lat.astype('int')\n",
    "car_df.long.astype('int')"
   ]
  },
  {
   "cell_type": "code",
   "execution_count": 60,
   "metadata": {},
   "outputs": [
    {
     "data": {
      "text/html": [
       "<div>\n",
       "<style scoped>\n",
       "    .dataframe tbody tr th:only-of-type {\n",
       "        vertical-align: middle;\n",
       "    }\n",
       "\n",
       "    .dataframe tbody tr th {\n",
       "        vertical-align: top;\n",
       "    }\n",
       "\n",
       "    .dataframe thead th {\n",
       "        text-align: right;\n",
       "    }\n",
       "</style>\n",
       "<table border=\"1\" class=\"dataframe\">\n",
       "  <thead>\n",
       "    <tr style=\"text-align: right;\">\n",
       "      <th></th>\n",
       "      <th>price</th>\n",
       "      <th>year</th>\n",
       "      <th>cylinders</th>\n",
       "      <th>odometer</th>\n",
       "      <th>drive</th>\n",
       "      <th>lat</th>\n",
       "      <th>long</th>\n",
       "    </tr>\n",
       "  </thead>\n",
       "  <tbody>\n",
       "    <tr>\n",
       "      <th>count</th>\n",
       "      <td>3.503120e+05</td>\n",
       "      <td>350312.000000</td>\n",
       "      <td>350312.0</td>\n",
       "      <td>3.503120e+05</td>\n",
       "      <td>350312.0</td>\n",
       "      <td>350312.000000</td>\n",
       "      <td>350312.000000</td>\n",
       "    </tr>\n",
       "    <tr>\n",
       "      <th>mean</th>\n",
       "      <td>5.907810e+04</td>\n",
       "      <td>2003.479872</td>\n",
       "      <td>0.0</td>\n",
       "      <td>8.322940e+04</td>\n",
       "      <td>0.0</td>\n",
       "      <td>37.708767</td>\n",
       "      <td>-94.346291</td>\n",
       "    </tr>\n",
       "    <tr>\n",
       "      <th>std</th>\n",
       "      <td>1.039924e+07</td>\n",
       "      <td>112.002379</td>\n",
       "      <td>0.0</td>\n",
       "      <td>1.057704e+05</td>\n",
       "      <td>0.0</td>\n",
       "      <td>8.153900</td>\n",
       "      <td>22.435581</td>\n",
       "    </tr>\n",
       "    <tr>\n",
       "      <th>min</th>\n",
       "      <td>0.000000e+00</td>\n",
       "      <td>0.000000</td>\n",
       "      <td>0.0</td>\n",
       "      <td>0.000000e+00</td>\n",
       "      <td>0.0</td>\n",
       "      <td>-81.240000</td>\n",
       "      <td>-165.935000</td>\n",
       "    </tr>\n",
       "    <tr>\n",
       "      <th>25%</th>\n",
       "      <td>4.000000e+03</td>\n",
       "      <td>2007.000000</td>\n",
       "      <td>0.0</td>\n",
       "      <td>2.148900e+04</td>\n",
       "      <td>0.0</td>\n",
       "      <td>34.117500</td>\n",
       "      <td>-115.122000</td>\n",
       "    </tr>\n",
       "    <tr>\n",
       "      <th>50%</th>\n",
       "      <td>9.500000e+03</td>\n",
       "      <td>2012.000000</td>\n",
       "      <td>0.0</td>\n",
       "      <td>7.574250e+04</td>\n",
       "      <td>0.0</td>\n",
       "      <td>38.618400</td>\n",
       "      <td>-89.690300</td>\n",
       "    </tr>\n",
       "    <tr>\n",
       "      <th>75%</th>\n",
       "      <td>1.799500e+04</td>\n",
       "      <td>2015.000000</td>\n",
       "      <td>0.0</td>\n",
       "      <td>1.276215e+05</td>\n",
       "      <td>0.0</td>\n",
       "      <td>42.477800</td>\n",
       "      <td>-81.877600</td>\n",
       "    </tr>\n",
       "    <tr>\n",
       "      <th>max</th>\n",
       "      <td>3.600029e+09</td>\n",
       "      <td>2021.000000</td>\n",
       "      <td>0.0</td>\n",
       "      <td>1.000000e+07</td>\n",
       "      <td>0.0</td>\n",
       "      <td>81.569300</td>\n",
       "      <td>94.124800</td>\n",
       "    </tr>\n",
       "  </tbody>\n",
       "</table>\n",
       "</div>"
      ],
      "text/plain": [
       "              price           year  cylinders      odometer     drive  \\\n",
       "count  3.503120e+05  350312.000000   350312.0  3.503120e+05  350312.0   \n",
       "mean   5.907810e+04    2003.479872        0.0  8.322940e+04       0.0   \n",
       "std    1.039924e+07     112.002379        0.0  1.057704e+05       0.0   \n",
       "min    0.000000e+00       0.000000        0.0  0.000000e+00       0.0   \n",
       "25%    4.000000e+03    2007.000000        0.0  2.148900e+04       0.0   \n",
       "50%    9.500000e+03    2012.000000        0.0  7.574250e+04       0.0   \n",
       "75%    1.799500e+04    2015.000000        0.0  1.276215e+05       0.0   \n",
       "max    3.600029e+09    2021.000000        0.0  1.000000e+07       0.0   \n",
       "\n",
       "                 lat           long  \n",
       "count  350312.000000  350312.000000  \n",
       "mean       37.708767     -94.346291  \n",
       "std         8.153900      22.435581  \n",
       "min       -81.240000    -165.935000  \n",
       "25%        34.117500    -115.122000  \n",
       "50%        38.618400     -89.690300  \n",
       "75%        42.477800     -81.877600  \n",
       "max        81.569300      94.124800  "
      ]
     },
     "execution_count": 60,
     "metadata": {},
     "output_type": "execute_result"
    }
   ],
   "source": [
    "car_df.describe()"
   ]
  },
  {
   "cell_type": "code",
   "execution_count": 59,
   "metadata": {},
   "outputs": [
    {
     "ename": "ValueError",
     "evalue": "num must be 1 <= num <= 0, not 1",
     "output_type": "error",
     "traceback": [
      "\u001b[1;31m---------------------------------------------------------------------------\u001b[0m",
      "\u001b[1;31mValueError\u001b[0m                                Traceback (most recent call last)",
      "\u001b[1;32m<ipython-input-59-085ea3f943c8>\u001b[0m in \u001b[0;36m<module>\u001b[1;34m\u001b[0m\n\u001b[0;32m      1\u001b[0m \u001b[1;31m# quickly find distribution of features:\u001b[0m\u001b[1;33m\u001b[0m\u001b[1;33m\u001b[0m\u001b[1;33m\u001b[0m\u001b[0m\n\u001b[0;32m      2\u001b[0m \u001b[1;32mfor\u001b[0m \u001b[0mf\u001b[0m \u001b[1;32min\u001b[0m \u001b[0mcar_df\u001b[0m\u001b[1;33m.\u001b[0m\u001b[0mcolumns\u001b[0m\u001b[1;33m:\u001b[0m\u001b[1;33m\u001b[0m\u001b[1;33m\u001b[0m\u001b[0m\n\u001b[1;32m----> 3\u001b[1;33m    \u001b[0mcar_df\u001b[0m\u001b[1;33m.\u001b[0m\u001b[0mhist\u001b[0m\u001b[1;33m(\u001b[0m\u001b[0mf\u001b[0m\u001b[1;33m)\u001b[0m\u001b[1;33m\u001b[0m\u001b[1;33m\u001b[0m\u001b[0m\n\u001b[0m",
      "\u001b[1;32m~\\Anaconda3\\lib\\site-packages\\pandas\\plotting\\_core.py\u001b[0m in \u001b[0;36mhist_frame\u001b[1;34m(data, column, by, grid, xlabelsize, xrot, ylabelsize, yrot, ax, sharex, sharey, figsize, layout, bins, **kwds)\u001b[0m\n\u001b[0;32m   2403\u001b[0m     fig, axes = _subplots(naxes=naxes, ax=ax, squeeze=False,\n\u001b[0;32m   2404\u001b[0m                           \u001b[0msharex\u001b[0m\u001b[1;33m=\u001b[0m\u001b[0msharex\u001b[0m\u001b[1;33m,\u001b[0m \u001b[0msharey\u001b[0m\u001b[1;33m=\u001b[0m\u001b[0msharey\u001b[0m\u001b[1;33m,\u001b[0m \u001b[0mfigsize\u001b[0m\u001b[1;33m=\u001b[0m\u001b[0mfigsize\u001b[0m\u001b[1;33m,\u001b[0m\u001b[1;33m\u001b[0m\u001b[1;33m\u001b[0m\u001b[0m\n\u001b[1;32m-> 2405\u001b[1;33m                           layout=layout)\n\u001b[0m\u001b[0;32m   2406\u001b[0m     \u001b[0m_axes\u001b[0m \u001b[1;33m=\u001b[0m \u001b[0m_flatten\u001b[0m\u001b[1;33m(\u001b[0m\u001b[0maxes\u001b[0m\u001b[1;33m)\u001b[0m\u001b[1;33m\u001b[0m\u001b[1;33m\u001b[0m\u001b[0m\n\u001b[0;32m   2407\u001b[0m \u001b[1;33m\u001b[0m\u001b[0m\n",
      "\u001b[1;32m~\\Anaconda3\\lib\\site-packages\\pandas\\plotting\\_tools.py\u001b[0m in \u001b[0;36m_subplots\u001b[1;34m(naxes, sharex, sharey, squeeze, subplot_kw, ax, layout, layout_type, **fig_kw)\u001b[0m\n\u001b[0;32m    235\u001b[0m \u001b[1;33m\u001b[0m\u001b[0m\n\u001b[0;32m    236\u001b[0m     \u001b[1;31m# Create first subplot separately, so we can share it if requested\u001b[0m\u001b[1;33m\u001b[0m\u001b[1;33m\u001b[0m\u001b[1;33m\u001b[0m\u001b[0m\n\u001b[1;32m--> 237\u001b[1;33m     \u001b[0max0\u001b[0m \u001b[1;33m=\u001b[0m \u001b[0mfig\u001b[0m\u001b[1;33m.\u001b[0m\u001b[0madd_subplot\u001b[0m\u001b[1;33m(\u001b[0m\u001b[0mnrows\u001b[0m\u001b[1;33m,\u001b[0m \u001b[0mncols\u001b[0m\u001b[1;33m,\u001b[0m \u001b[1;36m1\u001b[0m\u001b[1;33m,\u001b[0m \u001b[1;33m**\u001b[0m\u001b[0msubplot_kw\u001b[0m\u001b[1;33m)\u001b[0m\u001b[1;33m\u001b[0m\u001b[1;33m\u001b[0m\u001b[0m\n\u001b[0m\u001b[0;32m    238\u001b[0m \u001b[1;33m\u001b[0m\u001b[0m\n\u001b[0;32m    239\u001b[0m     \u001b[1;32mif\u001b[0m \u001b[0msharex\u001b[0m\u001b[1;33m:\u001b[0m\u001b[1;33m\u001b[0m\u001b[1;33m\u001b[0m\u001b[0m\n",
      "\u001b[1;32m~\\Anaconda3\\lib\\site-packages\\matplotlib\\figure.py\u001b[0m in \u001b[0;36madd_subplot\u001b[1;34m(self, *args, **kwargs)\u001b[0m\n\u001b[0;32m   1412\u001b[0m                     \u001b[0mself\u001b[0m\u001b[1;33m.\u001b[0m\u001b[0m_axstack\u001b[0m\u001b[1;33m.\u001b[0m\u001b[0mremove\u001b[0m\u001b[1;33m(\u001b[0m\u001b[0max\u001b[0m\u001b[1;33m)\u001b[0m\u001b[1;33m\u001b[0m\u001b[1;33m\u001b[0m\u001b[0m\n\u001b[0;32m   1413\u001b[0m \u001b[1;33m\u001b[0m\u001b[0m\n\u001b[1;32m-> 1414\u001b[1;33m             \u001b[0ma\u001b[0m \u001b[1;33m=\u001b[0m \u001b[0msubplot_class_factory\u001b[0m\u001b[1;33m(\u001b[0m\u001b[0mprojection_class\u001b[0m\u001b[1;33m)\u001b[0m\u001b[1;33m(\u001b[0m\u001b[0mself\u001b[0m\u001b[1;33m,\u001b[0m \u001b[1;33m*\u001b[0m\u001b[0margs\u001b[0m\u001b[1;33m,\u001b[0m \u001b[1;33m**\u001b[0m\u001b[0mkwargs\u001b[0m\u001b[1;33m)\u001b[0m\u001b[1;33m\u001b[0m\u001b[1;33m\u001b[0m\u001b[0m\n\u001b[0m\u001b[0;32m   1415\u001b[0m \u001b[1;33m\u001b[0m\u001b[0m\n\u001b[0;32m   1416\u001b[0m         \u001b[1;32mreturn\u001b[0m \u001b[0mself\u001b[0m\u001b[1;33m.\u001b[0m\u001b[0m_add_axes_internal\u001b[0m\u001b[1;33m(\u001b[0m\u001b[0mkey\u001b[0m\u001b[1;33m,\u001b[0m \u001b[0ma\u001b[0m\u001b[1;33m)\u001b[0m\u001b[1;33m\u001b[0m\u001b[1;33m\u001b[0m\u001b[0m\n",
      "\u001b[1;32m~\\Anaconda3\\lib\\site-packages\\matplotlib\\axes\\_subplots.py\u001b[0m in \u001b[0;36m__init__\u001b[1;34m(self, fig, *args, **kwargs)\u001b[0m\n\u001b[0;32m     57\u001b[0m                 \u001b[1;32mif\u001b[0m \u001b[0mnum\u001b[0m \u001b[1;33m<\u001b[0m \u001b[1;36m1\u001b[0m \u001b[1;32mor\u001b[0m \u001b[0mnum\u001b[0m \u001b[1;33m>\u001b[0m \u001b[0mrows\u001b[0m\u001b[1;33m*\u001b[0m\u001b[0mcols\u001b[0m\u001b[1;33m:\u001b[0m\u001b[1;33m\u001b[0m\u001b[1;33m\u001b[0m\u001b[0m\n\u001b[0;32m     58\u001b[0m                     raise ValueError(\n\u001b[1;32m---> 59\u001b[1;33m                         f\"num must be 1 <= num <= {rows*cols}, not {num}\")\n\u001b[0m\u001b[0;32m     60\u001b[0m                 self._subplotspec = GridSpec(\n\u001b[0;32m     61\u001b[0m                         rows, cols, figure=self.figure)[int(num) - 1]\n",
      "\u001b[1;31mValueError\u001b[0m: num must be 1 <= num <= 0, not 1"
     ]
    },
    {
     "data": {
      "image/png": "[encoded data removed]",
      "text/plain": [
       "<Figure size 432x288 with 1 Axes>"
      ]
     },
     "metadata": {
      "needs_background": "light"
     },
     "output_type": "display_data"
    },
    {
     "data": {
      "image/png": "[encoded data removed]",
      "text/plain": [
       "<Figure size 432x288 with 1 Axes>"
      ]
     },
     "metadata": {
      "needs_background": "light"
     },
     "output_type": "display_data"
    },
    {
     "data": {
      "text/plain": [
       "<Figure size 432x288 with 0 Axes>"
      ]
     },
     "metadata": {},
     "output_type": "display_data"
    }
   ],
   "source": [
    " # quickly find distribution of features:\n",
    "for f in car_df.columns:\n",
    "    car_df.hist(f)"
   ]
  },
  {
   "cell_type": "code",
   "execution_count": 46,
   "metadata": {},
   "outputs": [],
   "source": [
    "# Define our Numeric and Categorical Features\n",
    "LABEL = 'price'\n",
    "\n",
    "numeric_feature_names = ['year', 'odometer', 'lat','long', 'drive', 'cylinders']\n",
    "\n",
    "\n",
    "categorical_feature_names = list(set(feature_names) - set(numeric_feature_names) - set([LABEL]))\n",
    "# Assertions are simply boolean expressions that checks if the conditions return true or not. If it is true, \n",
    "# the program does nothing and move to the next line of code. However, if it's false, the program stops\n",
    "# and throws an error.\n",
    "assert len(numeric_feature_names) == 6\n",
    "assert len(categorical_feature_names) == 10"
   ]
  },
  {
   "cell_type": "code",
   "execution_count": 47,
   "metadata": {},
   "outputs": [
    {
     "data": {
      "text/html": [
       "<div>\n",
       "<style scoped>\n",
       "    .dataframe tbody tr th:only-of-type {\n",
       "        vertical-align: middle;\n",
       "    }\n",
       "\n",
       "    .dataframe tbody tr th {\n",
       "        vertical-align: top;\n",
       "    }\n",
       "\n",
       "    .dataframe thead th {\n",
       "        text-align: right;\n",
       "    }\n",
       "</style>\n",
       "<table border=\"1\" class=\"dataframe\">\n",
       "  <thead>\n",
       "    <tr style=\"text-align: right;\">\n",
       "      <th></th>\n",
       "      <th>manufacturer</th>\n",
       "      <th>title_status</th>\n",
       "      <th>model</th>\n",
       "      <th>size</th>\n",
       "      <th>condition</th>\n",
       "      <th>transmission</th>\n",
       "      <th>fuel</th>\n",
       "      <th>vin</th>\n",
       "      <th>paint_color</th>\n",
       "      <th>state</th>\n",
       "    </tr>\n",
       "  </thead>\n",
       "  <tbody>\n",
       "    <tr>\n",
       "      <th>0</th>\n",
       "      <td>volkswagen</td>\n",
       "      <td>clean</td>\n",
       "      <td>golf r</td>\n",
       "      <td>compact</td>\n",
       "      <td>excellent</td>\n",
       "      <td>manual</td>\n",
       "      <td>gas</td>\n",
       "      <td>WVWPF7AJ6CW316713</td>\n",
       "      <td>black</td>\n",
       "      <td>ut</td>\n",
       "    </tr>\n",
       "    <tr>\n",
       "      <th>1</th>\n",
       "      <td>ford</td>\n",
       "      <td>clean</td>\n",
       "      <td>f-150</td>\n",
       "      <td>NaN</td>\n",
       "      <td>excellent</td>\n",
       "      <td>automatic</td>\n",
       "      <td>gas</td>\n",
       "      <td>1FTMF1EP3GKF13544</td>\n",
       "      <td>NaN</td>\n",
       "      <td>ut</td>\n",
       "    </tr>\n",
       "    <tr>\n",
       "      <th>2</th>\n",
       "      <td>gmc</td>\n",
       "      <td>clean</td>\n",
       "      <td>sierra 1500</td>\n",
       "      <td>NaN</td>\n",
       "      <td>excellent</td>\n",
       "      <td>automatic</td>\n",
       "      <td>gas</td>\n",
       "      <td>3GTU2WEC6FG228025</td>\n",
       "      <td>white</td>\n",
       "      <td>ut</td>\n",
       "    </tr>\n",
       "    <tr>\n",
       "      <th>3</th>\n",
       "      <td>ford</td>\n",
       "      <td>clean</td>\n",
       "      <td>f-150</td>\n",
       "      <td>NaN</td>\n",
       "      <td>excellent</td>\n",
       "      <td>automatic</td>\n",
       "      <td>gas</td>\n",
       "      <td>1FTEX1EF6GKD25447</td>\n",
       "      <td>NaN</td>\n",
       "      <td>ut</td>\n",
       "    </tr>\n",
       "    <tr>\n",
       "      <th>4</th>\n",
       "      <td>ford</td>\n",
       "      <td>clean</td>\n",
       "      <td>f-450</td>\n",
       "      <td>NaN</td>\n",
       "      <td>NaN</td>\n",
       "      <td>automatic</td>\n",
       "      <td>diesel</td>\n",
       "      <td>1FT8W4DT8GEA90427</td>\n",
       "      <td>white</td>\n",
       "      <td>ut</td>\n",
       "    </tr>\n",
       "  </tbody>\n",
       "</table>\n",
       "</div>"
      ],
      "text/plain": [
       "  manufacturer title_status        model     size  condition transmission  \\\n",
       "0   volkswagen        clean       golf r  compact  excellent       manual   \n",
       "1         ford        clean        f-150      NaN  excellent    automatic   \n",
       "2          gmc        clean  sierra 1500      NaN  excellent    automatic   \n",
       "3         ford        clean        f-150      NaN  excellent    automatic   \n",
       "4         ford        clean        f-450      NaN        NaN    automatic   \n",
       "\n",
       "     fuel                vin paint_color state  \n",
       "0     gas  WVWPF7AJ6CW316713       black    ut  \n",
       "1     gas  1FTMF1EP3GKF13544         NaN    ut  \n",
       "2     gas  3GTU2WEC6FG228025       white    ut  \n",
       "3     gas  1FTEX1EF6GKD25447         NaN    ut  \n",
       "4  diesel  1FT8W4DT8GEA90427       white    ut  "
      ]
     },
     "execution_count": 47,
     "metadata": {},
     "output_type": "execute_result"
    }
   ],
   "source": [
    "car_df[categorical_feature_names].head()"
   ]
  },
  {
   "cell_type": "code",
   "execution_count": 48,
   "metadata": {},
   "outputs": [
    {
     "name": "stdout",
     "output_type": "stream",
     "text": [
      "manufacturer: ['volkswagen' 'ford' 'gmc' 'ram' 'toyota' 'chevrolet' 'mercedes-benz'\n",
      " 'jeep' nan 'honda' 'lexus' 'cadillac' 'dodge' 'hyundai' 'subaru' 'bmw'\n",
      " 'chrysler' 'nissan' 'mitsubishi' 'buick' 'acura' 'kia' 'rover'\n",
      " 'alfa-romeo' 'mazda' 'saturn' 'pontiac' 'volvo' 'jaguar' 'fiat' 'audi'\n",
      " 'mini' 'infiniti' 'lincoln' 'mercury' 'tesla' 'harley-davidson' 'porche'\n",
      " 'land rover' 'aston-martin' 'ferrari' 'datsun' 'hennessey' ' tire rack'\n",
      " 'morgan']\n",
      "title_status: ['clean' 'rebuilt' 'salvage' 'lien' nan 'missing' 'parts only' 'GT']\n",
      "model: ['golf r' 'f-150' 'sierra 1500' ... 'e-350 econoline xl'\n",
      " 'Detroit Cascadia125' 'denali 3500 dually pickup']\n",
      "size: ['compact' nan 'mid-size' 'full-size' 'sub-compact' ' nova']\n",
      "condition: ['excellent' nan 'good' 'like new' 'fair' 'new' 'salvage' ' firebird']\n",
      "transmission: ['manual' 'automatic' 'other' nan ' corvette']\n",
      "fuel: ['gas' 'diesel' 'other' nan 'electric' 'hybrid' ' RS']\n",
      "vin: ['WVWPF7AJ6CW316713' '1FTMF1EP3GKF13544' '3GTU2WEC6FG228025' ...\n",
      " '1G1JC124527434564' '1GCDC14N8LZ214027' '1FTEX1EP9GFA57513']\n",
      "paint_color: ['black' nan 'white' 'silver' 'brown' 'blue' 'grey' 'red' 'custom'\n",
      " 'purple' 'yellow' 'green' 'orange' ' ford']\n",
      "state: ['ut' 'va' 'vt' 'wa' 'wi' 'wv' 'wy' 'al' 'az' 'ar' 'ak' 'ca' 'co' 'fl'\n",
      " 'ga' 'il' 'ma' 'mi' nan ' awd' 'de' 'ct' 'dc' 'hi' 'id' 'in' 'ia' 'ks'\n",
      " 'ky' 'la' 'me' 'md' 'mn' 'ms' 'mo' 'mt' 'ne' 'nj' 'nc' 'nv']\n"
     ]
    }
   ],
   "source": [
    "num = car_df[categorical_feature_names].columns\n",
    "for f in num:\n",
    "    print(f'{f}:', car_df[f].unique())"
   ]
  },
  {
   "cell_type": "code",
   "execution_count": 49,
   "metadata": {},
   "outputs": [
    {
     "data": {
      "text/plain": [
       "0"
      ]
     },
     "execution_count": 49,
     "metadata": {},
     "output_type": "execute_result"
    }
   ],
   "source": [
    "car_df['size'][car_df['size']== 'Nan'].count()"
   ]
  },
  {
   "cell_type": "code",
   "execution_count": 50,
   "metadata": {},
   "outputs": [],
   "source": [
    "car_df.drop(car_df[car_df['size']=='nan'].index,axis=0,inplace=True)"
   ]
  },
  {
   "cell_type": "code",
   "execution_count": 51,
   "metadata": {},
   "outputs": [
    {
     "data": {
      "text/html": [
       "<div>\n",
       "<style scoped>\n",
       "    .dataframe tbody tr th:only-of-type {\n",
       "        vertical-align: middle;\n",
       "    }\n",
       "\n",
       "    .dataframe tbody tr th {\n",
       "        vertical-align: top;\n",
       "    }\n",
       "\n",
       "    .dataframe thead th {\n",
       "        text-align: right;\n",
       "    }\n",
       "</style>\n",
       "<table border=\"1\" class=\"dataframe\">\n",
       "  <thead>\n",
       "    <tr style=\"text-align: right;\">\n",
       "      <th></th>\n",
       "      <th>year</th>\n",
       "      <th>odometer</th>\n",
       "      <th>lat</th>\n",
       "      <th>long</th>\n",
       "      <th>drive</th>\n",
       "      <th>cylinders</th>\n",
       "    </tr>\n",
       "  </thead>\n",
       "  <tbody>\n",
       "    <tr>\n",
       "      <th>0</th>\n",
       "      <td>2012</td>\n",
       "      <td>63500</td>\n",
       "      <td>40.7372</td>\n",
       "      <td>-111.858</td>\n",
       "      <td>4wd</td>\n",
       "      <td>4 cylinders</td>\n",
       "    </tr>\n",
       "    <tr>\n",
       "      <th>1</th>\n",
       "      <td>2016</td>\n",
       "      <td>10</td>\n",
       "      <td>40.5881</td>\n",
       "      <td>-111.884</td>\n",
       "      <td>4wd</td>\n",
       "      <td>NaN</td>\n",
       "    </tr>\n",
       "    <tr>\n",
       "      <th>2</th>\n",
       "      <td>2015</td>\n",
       "      <td>7554</td>\n",
       "      <td>40.5881</td>\n",
       "      <td>-111.884</td>\n",
       "      <td>4wd</td>\n",
       "      <td>NaN</td>\n",
       "    </tr>\n",
       "    <tr>\n",
       "      <th>3</th>\n",
       "      <td>2016</td>\n",
       "      <td>10</td>\n",
       "      <td>40.5881</td>\n",
       "      <td>-111.884</td>\n",
       "      <td>4wd</td>\n",
       "      <td>NaN</td>\n",
       "    </tr>\n",
       "    <tr>\n",
       "      <th>4</th>\n",
       "      <td>2018</td>\n",
       "      <td>70150</td>\n",
       "      <td>40.3744</td>\n",
       "      <td>-104.694</td>\n",
       "      <td>4wd</td>\n",
       "      <td>NaN</td>\n",
       "    </tr>\n",
       "  </tbody>\n",
       "</table>\n",
       "</div>"
      ],
      "text/plain": [
       "   year odometer      lat     long drive    cylinders\n",
       "0  2012    63500  40.7372 -111.858   4wd  4 cylinders\n",
       "1  2016       10  40.5881 -111.884   4wd          NaN\n",
       "2  2015     7554  40.5881 -111.884   4wd          NaN\n",
       "3  2016       10  40.5881 -111.884   4wd          NaN\n",
       "4  2018    70150  40.3744 -104.694   4wd          NaN"
      ]
     },
     "execution_count": 51,
     "metadata": {},
     "output_type": "execute_result"
    }
   ],
   "source": [
    "car_df[numeric_feature_names].head()"
   ]
  },
  {
   "cell_type": "code",
   "execution_count": 52,
   "metadata": {},
   "outputs": [],
   "source": [
    "# how to quickly clean and change dtype for interger / float fields\n",
    "# Coerce the numeric features to numbers. This is necessary because the model\n",
    "# crashes because not all the values are numeric.\n",
    "for feature_name in numeric_feature_names + [LABEL]:\n",
    "  car_df[feature_name] = pd.to_numeric(car_df[feature_name], errors='coerce')\n",
    "# Fill missing values with 0.\n",
    "# Is this an OK thing to do? You may want to come back and revisit this decision later.\n",
    "car_df.fillna(0, inplace=True)"
   ]
  },
  {
   "cell_type": "code",
   "execution_count": 53,
   "metadata": {},
   "outputs": [
    {
     "data": {
      "text/plain": [
       "Index(['price', 'year', 'cylinders', 'odometer', 'drive', 'lat', 'long'], dtype='object')"
      ]
     },
     "execution_count": 53,
     "metadata": {},
     "output_type": "execute_result"
    }
   ],
   "source": [
    "# how to quickly select columns dtypes using pandas:\n",
    "    # To select all numeric types, use np.number or 'number'\n",
    "    # To select strings you must use the object dtype, but note that this will return all object dtype columns\n",
    "    # See the numpy dtype hierarchy\n",
    "    # To select datetimes, use np.datetime64, 'datetime' or 'datetime64'\n",
    "    # To select timedeltas, use np.timedelta64, 'timedelta' or 'timedelta64'\n",
    "    # To select Pandas categorical dtypes, use 'category'\n",
    "    # To select Pandas datetimetz dtypes, use 'datetimetz' (new in 0.20.0) or 'datetime64[ns, tz]'\n",
    "car_df.select_dtypes(include=[np.number]).columns"
   ]
  },
  {
   "cell_type": "code",
   "execution_count": 54,
   "metadata": {},
   "outputs": [
    {
     "data": {
      "text/plain": [
       "Index(['manufacturer', 'model', 'condition', 'fuel', 'title_status', 'vin',\n",
       "       'state', 'transmission', 'size', 'paint_color'],\n",
       "      dtype='object')"
      ]
     },
     "execution_count": 54,
     "metadata": {},
     "output_type": "execute_result"
    }
   ],
   "source": [
    "car_df.select_dtypes(include='object').columns"
   ]
  },
  {
   "cell_type": "code",
   "execution_count": 55,
   "metadata": {},
   "outputs": [
    {
     "data": {
      "image/png": "[encoded data removed]",
      "text/plain": [
       "<Figure size 432x288 with 1 Axes>"
      ]
     },
     "metadata": {
      "needs_background": "light"
     },
     "output_type": "display_data"
    },
    {
     "data": {
      "image/png": "[encoded data removed]",
      "text/plain": [
       "<Figure size 432x288 with 1 Axes>"
      ]
     },
     "metadata": {
      "needs_background": "light"
     },
     "output_type": "display_data"
    },
    {
     "data": {
      "image/png": "[encoded data removed]",
      "text/plain": [
       "<Figure size 432x288 with 1 Axes>"
      ]
     },
     "metadata": {
      "needs_background": "light"
     },
     "output_type": "display_data"
    },
    {
     "data": {
      "image/png": "[encoded data removed]",
      "text/plain": [
       "<Figure size 432x288 with 1 Axes>"
      ]
     },
     "metadata": {
      "needs_background": "light"
     },
     "output_type": "display_data"
    },
    {
     "data": {
      "image/png": "[encoded data removed]",
      "text/plain": [
       "<Figure size 432x288 with 1 Axes>"
      ]
     },
     "metadata": {
      "needs_background": "light"
     },
     "output_type": "display_data"
    },
    {
     "data": {
      "image/png": "[encoded data removed]",
      "text/plain": [
       "<Figure size 432x288 with 1 Axes>"
      ]
     },
     "metadata": {
      "needs_background": "light"
     },
     "output_type": "display_data"
    }
   ],
   "source": [
    "for f in numeric_feature_names:\n",
    "    car_df.hist(f)"
   ]
  },
  {
   "cell_type": "code",
   "execution_count": null,
   "metadata": {},
   "outputs": [],
   "source": []
  }
 ],
 "metadata": {
  "kernelspec": {
   "display_name": "Python 3",
   "language": "python",
   "name": "python3"
  },
  "language_info": {
   "codemirror_mode": {
    "name": "ipython",
    "version": 3
   },
   "file_extension": ".py",
   "mimetype": "text/x-python",
   "name": "python",
   "nbconvert_exporter": "python",
   "pygments_lexer": "ipython3",
   "version": "3.7.3"
  }
 },
 "nbformat": 4,
 "nbformat_minor": 2
}
